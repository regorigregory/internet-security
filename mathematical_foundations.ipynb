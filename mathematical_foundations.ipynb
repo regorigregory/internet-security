{
 "cells": [
  {
   "cell_type": "markdown",
   "metadata": {},
   "source": [
    "<h2>This is the initial import that is needed in order to run the code below. Please run the import before scrolling down to the first code block.</h2>"
   ]
  },
  {
   "cell_type": "code",
   "execution_count": 1,
   "metadata": {},
   "outputs": [],
   "source": [
    "import numpy as np\n",
    "import pandas as pd\n"
   ]
  },
  {
   "cell_type": "markdown",
   "metadata": {},
   "source": [
    "<h1>Prime numbers</h1>\n",
    "A Prime number is a number which has only to divisors that result in 0 remainder: 1 and itself.\n",
    "\n",
    "Prime numbers are ofthen used in cyptography and cyber security. However, finding the greatest prime number up to N, is not easy as cypographic alorithms often need 200 digit primes today. \n",
    "\n",
    "The first method was invented by Eratosthenes of Cyrene, 265-194 BCE. The functions called find \"largest_prime_e\" follows the logic of Eratosthenes serviently.\n",
    "<ol>\n",
    "    <li> Write down the numbers up until N </li>\n",
    "    <li>Find the next prime number, which is at the beginning the smallest one, 2.</li>\n",
    "    <li> Then eliminate the numbers up to N which are divisible without remainder with that momentary prime number.</li>\n",
    "    <li> Then keep repeating it until you either eliminate every prime number up until N and find the highest prime, or reach N (which is not really possible as long as N>=2, as then the greatest prime in the range is 2).</li>\n",
    "    This logic can be problematic when dealing with the above stated digits.\n",
    "\n"
   ]
  },
  {
   "cell_type": "code",
   "execution_count": 2,
   "metadata": {},
   "outputs": [
    {
     "name": "stdout",
     "output_type": "stream",
     "text": [
      "997\n"
     ]
    }
   ],
   "source": [
    "\n",
    "def is_prime(N):\n",
    "    if(N==1 or N==0):\n",
    "        return False\n",
    "    \n",
    "    a = abs(N)\n",
    "    divisor = a\n",
    "    \n",
    "    while (divisor>2):\n",
    "        divisor = divisor-1\n",
    "        modulo = a % divisor\n",
    "        if(modulo == 0):\n",
    "            return False\n",
    "    if(divisor!=1):\n",
    "        return True\n",
    "    return False\n",
    "\n",
    "def next_prime(cap):\n",
    "    N=cap+1\n",
    "    while(not is_prime(N)):\n",
    "        N=N+1\n",
    "    return N\n",
    "\n",
    "def find_largest_prime(N):\n",
    "    while(not is_prime(N)):\n",
    "        N=N-1\n",
    "        if(N==2):\n",
    "            return N\n",
    "    return N\n",
    "#e=Eratosthenes\n",
    "def find_largest_prime_e(cap):\n",
    "    current_prime = 2\n",
    "    \n",
    "    numbers = np.asarray(range(2, cap+1))\n",
    "    while(current_prime<=cap):\n",
    "        #Eliminate the ones that are divisible by the next prime\n",
    "        numbers = np.asarray([remainer for remainer in numbers if (remainer%current_prime!=0 or remainer==current_prime)])\n",
    "        current_prime = next_prime(current_prime)\n",
    "    return max(numbers)\n",
    "\n",
    "print(find_largest_prime_e(1000))        "
   ]
  },
  {
   "cell_type": "code",
   "execution_count": 3,
   "metadata": {},
   "outputs": [],
   "source": [
    "def print_primes_in_range(low, high):\n",
    "    for i in range(low, high+1):\n",
    "        if(is_prime(i)):\n",
    "            print(\"%d is a prime \"%(i))"
   ]
  },
  {
   "cell_type": "code",
   "execution_count": 4,
   "metadata": {},
   "outputs": [
    {
     "name": "stdout",
     "output_type": "stream",
     "text": [
      "101 is a prime \n",
      "103 is a prime \n",
      "107 is a prime \n",
      "109 is a prime \n",
      "113 is a prime \n",
      "127 is a prime \n",
      "131 is a prime \n",
      "137 is a prime \n",
      "139 is a prime \n",
      "149 is a prime \n"
     ]
    }
   ],
   "source": [
    "print_primes_in_range(100, 150)"
   ]
  },
  {
   "cell_type": "markdown",
   "metadata": {},
   "source": [
    "<h1> Finding the greatest common divisor </h1>\n",
    "Finding the greatest common divisor can help finding numbers which are \"relatively prime\" numbers. Finding the greatest common divisor using can be done by using the Eucledian algorithm whose implementation can be found below.\n",
    "The steps to be taken in order to find it accordung tot the Eucledian algorithm is:\n",
    "<ol>    \n",
    "    <li>Divide a by b and check if the remainder is 0 or 1.</li>\n",
    "    <li>If it is, then the greatest common divisor is b.</li>\n",
    "    <li>Otherwise, it isn't, then make a=b, and b=remainder from a/b.</li>\n",
    "    <li>Repeat step 3 until it is 0 or 1.</li>\n",
    "</ol>\n",
    "    "
   ]
  },
  {
   "cell_type": "code",
   "execution_count": 72,
   "metadata": {},
   "outputs": [],
   "source": [
    "def gcd(a,b):\n",
    "    if(b>a):\n",
    "        temp = a\n",
    "        a=b\n",
    "        b=temp\n",
    "    modulo = a%b\n",
    "   \n",
    "    if(modulo==0):\n",
    "        return b\n",
    "    else:\n",
    "        new_a = b\n",
    "        final_gcd = gcd(new_a, modulo)\n",
    "    return final_gcd\n",
    "\n"
   ]
  },
  {
   "cell_type": "markdown",
   "metadata": {},
   "source": [
    "Finding the modular inverse is useful for at the moment, unknown reasons in the field of cryptography.\n",
    "The modular inverse is that number (B), which if multiplied by A equals to one. Of course, it is interpreted in modulo arithmetics.\n",
    "<p>\n",
    "$A^-1=(A*B) mod C = 1$\n",
    "</p>"
   ]
  },
  {
   "cell_type": "code",
   "execution_count": 73,
   "metadata": {},
   "outputs": [],
   "source": [
    "def find_modular_inverz(a,b):\n",
    "    \n",
    "    #If gcd is not 1, then modular inverz is not possible. However, in this case, it is double work, because in order to\n",
    "    # find the modular inverz, we have to go through the steps of ginding the GCD using the Eucledian algorithm\n",
    "        \n",
    "        dividend = a\n",
    "        divisor = b  \n",
    "        quotient = int(dividend/divisor)\n",
    "        modulo = dividend%divisor #I know, it is cheating   \n",
    "        \n",
    "        #Saving the quotients so that Euclid's algorithm can be extended\n",
    "        quotients = list()\n",
    "        modulos = list()\n",
    "        quotients.append(quotient)\n",
    "        modulos.append(modulo)\n",
    "        \n",
    "        while (modulo!=0):\n",
    "            dividend = divisor\n",
    "            divisor = modulo\n",
    "            quotient = int(dividend/divisor)\n",
    "            modulo = dividend%divisor #I know, it is cheating\n",
    "            \n",
    "            quotients.append(quotient)\n",
    "            modulos.append(modulo)\n",
    "        \n",
    "        if(modulos[-2] !=1):\n",
    "            print(\"No modular inverz exists for %d mod %d.\"%(a,b))\n",
    "        else:\n",
    "            t_1 = 0\n",
    "            t_2 = 1\n",
    "            for i,v in enumerate(quotients):\n",
    "                t = t_1-(v*t_2)\n",
    "                t_1 = t_2\n",
    "                t_2 = t\n",
    "            print(\"The modular inverse for %d mod %d is %d.\"%(a, b, t_1))\n",
    "            #Now we are trying to find the modular inverz...\n",
    "            # formula stolen from him: https://www.youtube.com/watch?v=mnlv3UlFuAs\n",
    "            # t = t_1 - (q_i*t_2)\n",
    "            #So, to begin with, let's find the quotients for GCD...\n",
    "        \n",
    "        "
   ]
  },
  {
   "cell_type": "code",
   "execution_count": 74,
   "metadata": {},
   "outputs": [
    {
     "name": "stdout",
     "output_type": "stream",
     "text": [
      "The modular inverse for 73 mod 11 is 20.\n"
     ]
    }
   ],
   "source": [
    "find_modular_inverz(73, 11)"
   ]
  },
  {
   "cell_type": "markdown",
   "metadata": {},
   "source": [
    "<h1> Modulo arithmetic </h1>\n",
    "What is a number's inverz? It is a number by which one multiplies the original number gets 1. For instance:\n",
    "x's inverz is $\\frac{1}{x}$"
   ]
  },
  {
   "cell_type": "markdown",
   "metadata": {},
   "source": [
    "<h1>The Chi-squared test </h1>\n",
    "<p>\n",
    "The Chi-squared test is a statistical way to find out that when observing the outcomes of an experiment and there is a deviation from the expected results (from the probability)\n",
    ", is there something artificial that is influencing our results or it is with in the acceptable range.<br><br><p>\n",
    "$Chi^2=\\sum({(E_i - O_i)^2/E_i})$</p>\n",
    "  <br>  Meaning: The Eucledian distance of the Expected and Observed outcomes divided by the Expected outcome summarised over all different types of outcomes.\n",
    "    To decide whether to reject or accept the outcomes (as in whether there is some dodgy going on with the dice, for instance) a $Chi^2$ lookup table is used (https://www.medcalc.org/manual/chi-square-table.php) which contains the &Chi^2$ distribution values."
   ]
  },
  {
   "cell_type": "code",
   "execution_count": 30,
   "metadata": {},
   "outputs": [],
   "source": [
    "\n",
    "def is_chi_squared_ok(E, O, possible_outcomes, certainty=\"0.05\"):\n",
    "    possible_certainty = [\"0.995\", \"0.975\", \"0.2\", \"0.1\", \"0.05\", \"0.025\", \"0.02\", \"0.01\", \"0.005\", \"0.002\", \"0.001\"]\n",
    "    if(not certainty in possible_certainty):\n",
    "        print(\"The selected certainty level is not in the lookup table. Please select one of the following:\")\n",
    "        print(possible_certainty)\n",
    "    freedom=possible_outcomes-2#it should be -1, but the csv is nul indexed, hence if the rate of freedom is 1, then that is row 0\n",
    "    chi_2 = np.sum(np.square(E-O)/E)\n",
    "    \n",
    "    \n",
    "    chi_lookup_file = \"chi_squared_lookup.csv\"\n",
    "    read_in_lookup = pd.read_csv(chi_lookup_file)\n",
    "    rejection_threshold = float(read_in_lookup[certainty][freedom])\n",
    "    \n",
    "    if(chi_2>rejection_threshold):\n",
    "        return False\n",
    "    return True\n",
    "#x = np.asarray([1, 49])\n",
    "#y = np.asarray([25, 25])\n",
    "#print(is_chi_squared_ok(y, x, 2))\n",
    "    \n",
    "    "
   ]
  },
  {
   "cell_type": "code",
   "execution_count": 28,
   "metadata": {},
   "outputs": [
    {
     "name": "stdout",
     "output_type": "stream",
     "text": [
      "False\n"
     ]
    }
   ],
   "source": []
  },
  {
   "cell_type": "code",
   "execution_count": null,
   "metadata": {},
   "outputs": [],
   "source": []
  }
 ],
 "metadata": {
  "kernelspec": {
   "display_name": "Python 3",
   "language": "python",
   "name": "python3"
  },
  "language_info": {
   "codemirror_mode": {
    "name": "ipython",
    "version": 3
   },
   "file_extension": ".py",
   "mimetype": "text/x-python",
   "name": "python",
   "nbconvert_exporter": "python",
   "pygments_lexer": "ipython3",
   "version": "3.7.3"
  }
 },
 "nbformat": 4,
 "nbformat_minor": 2
}
